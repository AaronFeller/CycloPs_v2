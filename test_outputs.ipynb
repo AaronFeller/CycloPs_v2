{
 "cells": [
  {
   "cell_type": "code",
   "execution_count": 7,
   "metadata": {},
   "outputs": [],
   "source": [
    "filename = 'test.txt'\n",
    "smiles = []\n",
    "\n",
    "with open(filename) as file:\n",
    "    for line in file:\n",
    "        smiles.append(line.split(': ')[1].strip())\n",
    "        \n",
    "# smiles"
   ]
  },
  {
   "cell_type": "code",
   "execution_count": 8,
   "metadata": {},
   "outputs": [
    {
     "name": "stdout",
     "output_type": "stream",
     "text": [
      "Molecule #1 is valid\n",
      "Molecule #2 is valid\n",
      "Molecule #3 is valid\n",
      "Molecule #4 is valid\n",
      "Molecule #5 is valid\n",
      "Molecule #6 is valid\n",
      "Molecule #7 is valid\n",
      "Molecule #8 is valid\n",
      "Molecule #9 is valid\n",
      "Molecule #10 is valid\n"
     ]
    }
   ],
   "source": [
    "from rdkit import Chem\n",
    "\n",
    "for i, smile in enumerate(smiles):\n",
    "    mol = Chem.MolFromSmiles(smile)\n",
    "    # print(mol)\n",
    "    if mol is None:\n",
    "        print(f'Molecule #{i+1} is invalid')\n",
    "    else:\n",
    "        canon_smile = Chem.MolToSmiles(mol)\n",
    "        print(f'Molecule #{i+1} is valid')"
   ]
  }
 ],
 "metadata": {
  "kernelspec": {
   "display_name": "base",
   "language": "python",
   "name": "python3"
  },
  "language_info": {
   "codemirror_mode": {
    "name": "ipython",
    "version": 3
   },
   "file_extension": ".py",
   "mimetype": "text/x-python",
   "name": "python",
   "nbconvert_exporter": "python",
   "pygments_lexer": "ipython3",
   "version": "3.12.2"
  }
 },
 "nbformat": 4,
 "nbformat_minor": 2
}
