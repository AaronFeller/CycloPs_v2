{
 "cells": [
  {
   "cell_type": "code",
   "execution_count": 3,
   "metadata": {},
   "outputs": [
    {
     "data": {
      "text/plain": [
       "['N[C@@H](Cc1ccc(cc1)C(F)(F)F)C(=O)N[C@@H](CC1=CN=C-N1)C(=O)N[C@H](CC(=CN2)C1=C2C=CC=C1)C(=O)N[C@@H](CC(C)C)C(=O)N[C@@H](CCSC)C(=O)N[C@@H](CCSC)C(=O)N[C@@H](CC(=CN2)C1=C2C=CC=C1)C(=O)N[C@@H]([C@H](O)C)C(=O)N[C@@H](Cc1ccc2c(c1)cccc2)C(=O)N[C@@H](CCCNC(=N)N)C(=O)N[C@H]([C@@H](O)C)C(=O)N[C@@H](CC1=CN=C-N1)C(=O)N[C@@H](CCC(=O)N)C(=O)N[C@@H](CC3(=O))C(=O)N[C@@H](CC1=CN=C-N1)C(=O)N[C@@H](CC(C)C)C(=O)N1[C@@H](CCC1)C(=O)NCC(=O)N[C@@H](Cc1ccc(O)cc1)C(=O)N[C@@H](CC(=O)N)C(=O)N[C@@H](CC(=CN2)C1=C2C=CC=C1)C(=O)N[C@@H](CCSC)C(=O)N[C@@H](Cc1ccc(O)cc1)C(=O)N[C@@H](CC(=O)N3)C(=O)N[C@@H](CCSC)C(=O)N[C@@H](CC(=CN2)C1=C2C=CC=C1)C(=O)N[C@@H](Cc1cc(I)c(c(c1)I)O)C(=O)O',\n",
       " 'N[C@@H](CC(=CN2)C1=C2C=CC=C1)C(=O)N[C@@H](CCC(=O)N3)C(=O)N[C@@H](Cc1ccccc1)C(=O)N[C@@H](CC(=CN2)C1=C2C=CC=C1)C(=O)N[C@@H](c1ccccc1)C(=O)N[C@@H](Cc1ccc(O)cc1)C(=O)N[C@@H](Cc1ccccc1)C(=O)N[C@@H]([C@H](CC)C)C(=O)N[C@@H](C)C(=O)N[C@@H](CC1=CN=C-N1)C(=O)N[C@@H](Cc1ccc(O)cc1)C(=O)N1[C@@H](CCC1)C(=O)N[C@@H](CS)C(=O)N[C@@H](CCC(=O)N)C(=O)N1[C@@H](CCC1)C(=O)N[C@@H](CCC(=O)N)C(=O)N[C@@H]([C@H](CC)C)C(=O)N[C@@H](CCCCN)C(=O)N[C@@H](Cc1ccc(O)cc1)C(=O)N[C@H](CS)C(=O)N[C@@H](CS)C(=O)N[C@@H](CC(=O)O)C(=O)N[C@@H](Cc1ccc(O)cc1)C(=O)N[C@@H](CCCN)C(=O)N[C@@H]([C@H](CC)C)C(=O)N[C@H](Cc1ccc(O)cc1)C(=O)N1[C@@H](CCC1)C(=O)N[C@@H](CC(C)C)C(=O)N[C@@H]([C@H](O)C(C)C)C(=O)N[C@@H](C(C)(C)C)C(=O)N[C@@H](CCSCO)C(=O)N[C@@H](CC(=O)O)C(=O)N[C@@H](CCSC)C(=O)N[C@@H](CC(=CN2)C1=C2C=CC=C1)C(=O)N[C@@H](CC(=O)N)C(=O)N[C@@H](CC(C)C)C(=O)N[C@@H](CCC(=O)O)C(=O)N[C@@H](CC(=O)O)C(=O)N[C@@H](Cc1ccccc1)C(=O)N[C@@H](CC(=O)N)C(=O)N[C@H](CC(=O)O)C(=O)N[C@@H](CC(C)C)C(=O)N[C@@H]([C@H](O)C)C(=O)N[C@@H](CCC(=O)N)C(=O)N[C@@H](CC(=CN2)C1=C2C=CC=C1)C(=O)N[C@@H](CC(=O)N)C(=O)N[C@H](CN=[N+]=N)C(=O)N[C@H](Cc1c[nH]c2c1scc2)C(=O)N[C@@H](C)C(=O)N[C@@H](CC1=CN=C-N1)C(=O)N[C@@H](CC(=CN2)C1=C2C=CC=C1)C(=O)N[C@H](Cc1cnc2c(n1)cccc2)C(=O)N[C@@H](CCCNC(=N)N)C(=O)N[C@@H](CC(C)C)C(=O)N[C@@H](Cc1ccccc1)C(=O)N[C@@H](CCCCC)C(=O)N[C@@H](CC(=CN2)C1=C2C=CC=C1)C(=O)N[C@@H](CC(=CN2)C1=C2C=CC=C1)C(=O)N[C@@H](C)C(=O)N[C@@H](CC(=CN2)C1=C2C=CC=C1)C(=O)N[C@@H]([C@H](O)C)C(=O)N[C@H]([C@@H](O)C)C(=O)N[C@@H]([C@H](O)C)C(=O)N[C@@H](CC(=CN2)C1=C2C=CC=C1)C(=O)N[C@@H](CC1=CN=C-N1)C(=O)N[C@@H](Cc1ccc(O)cc1)C(=O)N[C@@H](CC(=CN2)C1=C2C=CC=C1)C(=O)N[C@@H](CS)C(=O)N1[C@@H](CCC1)C(=O)N[C@@H](CC(=O)N)C(=O)N[C@H](Cc1ccc(O)cc1)C(=O)NCC(=O)N[C@@H](CC)C(=O)N[C@@H](CC(C)C)C(=O)N[C@@H](CCC(=O)O)C(=O)N[C@@H](CC(=O)N)C(=O)N[C@@H](Cc1ccccc1)C(=O)N[C@@H]([C@H](O)C)C(=O)N[C@@H](CCCNC(=N)N)C(=O)N[C@@H]([C@H](O)C)C(=O)N[C@H]([C@@H](CC)C)C(=O)N[C@@H](CC(=CN2)C1=C2C=CC=C1)C(=O)N[C@@H](C(C)C)C(=O)N[C@@H]([C@H](O)C)C(=O)N[C@@H]([C@H](CC)C)C(=O)N[C@@H](CS)C(=O)N[C@@H](CCCCN)C(=O)N[C@@H](CO)C(=O)N[C@@H](Cc1ccc(O)cc1)C(=O)N[C@@H](CCSC)C(=O)N[C@H](CC(=O)O)C(=O)N[C@@H](CC(C)C)C(=O)N[C@@H](CS)C(=O)N[C@H]([C@H](C)(C(=O)O))C3(=O)',\n",
       " 'N3[C@@H](CC(=CN2)C1=C2C=CC=C1)C(=O)N[C@H](CCCNC(=N)N)C(=O)NCC(=O)N[C@@H](C(O)O)C(=O)N[C@@H](Cc1c2ccccc2cc2c1cccc2)C(=O)N[C@@H]([C@H](O)C)C(=O)N[C@@H](CCC(=O)N)C(=O)N[C@@H](Cc1cccc(c1)Cl)C(=O)N[C@@H]([C@H](O)C)C(=O)N[C@@H](Cc1ccc(O)cc1)C(=O)N[C@@H](CCC(=O)O)C(=O)N[C@H](CCSC)C(=O)N[C@H](CC(=CN2)C1=C2C=CC=C1)C(=O)N1[C@@H](CCC1)C(=O)N[C@@H](CCCNC(=N)N)C(=O)N[C@@H](CCC(=O)O)C(=O)N[C@@H](C)C(=O)N[C@H](CC(C)C)C(=O)N[C@@H](C)C(=O)N[C@@H]([C@H](CC)C)C(=O)N[C@@H](CCCNC(=N)N)C(=O)N[C@@H](Cc1ccc(O)cc1)C(=O)N[C@@H](CC(C)C)C(=O)N[C@@H]([C@H](CC)C)C(=O)N[C@@H](CC1=CN=C-N1)C(=O)N1[C@@H](CCC1)C(=O)N[C@@H](CCC(=O)N)C(=O)N[C@@H](CS)C(=O)N[C@@H](CC(=O)N)C(=O)N[C@@H](CC(C)C)C(=O)N[C@@H](CCC(=O)O)C(=O)N[C@@H](C(C)C)C(=O)N[C@@H]([C@H](CC)C)C(=O)N[C@@H](C(C)C)C(=O)N[C@@H](CCC(=O)N)C(=O)N[C@@H](Cc1cccc(c1)C)C(=O)N[C@@H]([C@H](O)C)C(=O)N[C@@H](CCCNC(=N)N)C(=O)N1[C@@H](CCC1)C(=O)N[C@@H](CCC(=O)O)C3(=O)',\n",
       " 'N[C@@H](CC1=CN=C-N1)C(=O)N[C@@H](Cc1ccccc1)C(=O)N[C@@H](Cc1c[nH]c2c1c(F)ccc2)C(=O)N[C@@H](CCCNC(=N3)N)C(=O)N[C@H](C)C(=O)N[C@@H](C)C(=O)N[C@@H](CCSC)C(=O)N[C@@H](CS)C(=O)N[C@@H](CC(=O)O)C(=O)N[C@@H](CCSC)C(=O)N[C@@H](CCCCN)C(=O)N[C@@H](CCCNC(=N)N)C(=O)N[C@@H](CC(C)C)C(=O)N[C@@H](CCCCN)C(=O)N[C@@H](C(C)(C)C)C(=O)N[C@@H](CC(=O)O)C(=O)N1[C@@H](CCC1)C(=O)N[C@@H](CS)C(=O)N[C@H](CO)C(=O)N[C@@H]([C@H](O)C)C(=O)N[C@@H](CC(=CN2)C1=C2C=CC=C1)C(=O)N[C@H](CCC(=O)N)C(=O)N[C@@H](C)C(=O)N[C@@H](Cc1ccc(cc1)C(=O)c1ccccc1)C(=O)N[C@@H](Cc1ccc(O)cc1)C(=O)N[C@@H](C(C)C)C(=O)N[C@@H](CC(=O)O)C(=O)N[C@@H](CCON=C(N)N)C(=O)N[C@@H](C(C)C)C(=O)N[C@@H](CCC(=O)N)C(=O)N[C@@H](CC(=O)O)C(=O)N[C@H]([C@H](C)(C(=O)O))C3(=O)',\n",
       " 'N[C@@H](Cc1ccc(cc1Cl)Cl)C(=O)N[C@@H](CC3(=O))C(=O)N[C@@H]([C@H](CC)C)C(=O)N[C@@H](CCCNC(=N)N)C(=O)N[C@@H](C)C(=O)N[C@H](CCCCN)C(=O)N[C@@H](CC1=CN=C-N1)C(=O)N[C@@H](CC(C)C)C(=O)N[C@@H](CCC(=O)N)C(=O)N[C@@H](CC(=O)N)C(=O)N[C@@H](CCCCN)C(=O)N[C@@H](CC(=CN2)C1=C2C=CC=C1)C(=O)N[C@@H](Cc1ccccc1)C(=O)N[C@@H](Cc1ccccc1)C(=O)N[C@@H](CC(=O)N)C(=O)N[C@@H](CO)C(=O)NCC(=O)N[C@H](CCC(=O)O)C(=O)N[C@@H](CCC(=O)NO)C(=O)N[C@@H](CC(=O)O)C(=O)N[C@@H](CCSC)C(=O)N[C@@H](CCSC)C(=O)N[C@@H](CC(=O)O)C(=O)N[C@@H](C(C)C)C(=O)N[C@@H](Cc1ccc(O)cc1)C(=O)N[C@@H](Cc1ccccc1)C(=O)N[C@@H](Cc1ccc2c(c1)cccc2)C(=O)N[C@@H]([C@H]([C@H](CO)O)C)C(=O)N[C@@H]([C@H](O)C)C(=O)N[C@@H](CCC(=O)O)C(=O)N[C@H]([C@@H](CC)C)C(=O)N[C@@H]([C@H](CC)C)C(=O)N[C@@H](C(C)C)C(=O)N[C@@H](CCCCN)C(=O)N[C@@H](CO)C(=O)N[C@H](CCC(=O)O)C(=O)N[C@@H]([C@H](CC)C)C(=O)N[C@@H](CC(=O)N)C(=O)N[C@@H](Cc1cccc(c1)C(F)(F)F)C(=O)N[C@@H](CCCCN)C(=O)N[C@@H](CCCNC(=N)N)C(=O)N[C@@H](CC(=O)O)C(=O)N[C@@H](CCSC)C(=O)N[C@@H](CCCNC(=N)N)C(=O)N[C@@H](CC(=O)O)C(=O)N[C@@H](CC(=O)N3)C(=O)N[C@@H](CC1=CN=C-N1)C(=O)O',\n",
       " 'N3[C@H](Cc1c[nH]c2c1ccc(c2O)N)C(=O)N[C@@H](C(C)C)C(=O)N[C@@H](Cc1ccccc1)C(=O)N[C@@H](CCC(=O)O)C(=O)N[C@@H]([C@H](CC)C)C(=O)N[C@@H](Cc1c2ccccc2cc2c1cccc2)C(=O)N[C@@H](CC(=CN2)C1=C2C=CC=C1)C(=O)N[C@@H](CCC(=O)O)C(=O)N[C@@H](CC(=O)O)C(=O)N[C@@H](C[C@@H](C(F)(F)F)C)C(=O)N[C@@H](CC(=CN2)C1=C2C=CC=C1)C(=O)N[C@@H](CCCCN)C(=O)N[C@@H]([C@H](O)C)C(=O)N[C@@H](CCCCN)C(=O)N[C@H](Cc1ccc(O)cc1)C(=O)NCC(=O)N[C@@H](CCSC)C(=O)N[C@@H](CC(=CN2)C1=C2C=CC=C1)C(=O)N[C@@H](CCSC)C(=O)N[C@@H]([C@H](O)C)C(=O)N[C@@H](CC(=O)N)C(=O)N[C@@H](CC(=CN2)C1=C2C=CC=C1)C(=O)N[C@H](CCCNC(=N)N)C(=O)N[C@@H](CCC3(=O))C(=O)NCC(=O)N[C@@H](C(CC)(C)C)C(=O)N[C@@H](CCCCN)C(=O)N[C@@H](CC(=CN2)C1=C2C=CC=C1)C(=O)N[C@@H](C(C)C)C(=O)N[C@@H]([C@H](CC)C)C(=O)N[C@@H](CCC(=O)NC)C(=O)O',\n",
       " 'NCC(=O)N[C@@H](CC1=CN=C-N1)C(=O)N[C@@H](C)C(=O)N[C@H](C(F)(F)F)C(=O)N1[C@@H](CCC1)C(=O)NCC(=O)N[C@@H](CCC(=O)O)C(=O)N[C@@H](CC1=CN=C-N1)C(=O)N[C@@H](CSCc1ccccc1)C(=O)N[C@@H](CS)C(=O)N[C@@H](Cn1cccn1)C(=O)N[C@@H]([C@H](CC)C)C(=O)N[C@@H](Cc1ccccc1)C(=O)N[C@@H](CC(=O)N2)C(=O)N[C@@H](CO)C(=O)N1[C@@H](CCC1)C(=O)N[C@@H](C)C(=O)N[C@@H](CS)C(=O)N[C@@H](CCC(=O)N)C(=O)N[C@@H](CC(=O)N)C(=O)N[C@@H](Cc1ccc(O)cc1)C(=O)N[C@@H](CC(C)C)C(=O)N[C@@H](Cc1ccccc1)C(=O)N[C@@H](CCC(=O)O)C(=O)N[C@@H](CC(=O)N)C(=O)N[C@@H](CCCCN)C(=O)N[C@@H](CSCCN)C(=O)N[C@@H](CS)C(=O)N[C@@H](CC(C)C)C(=O)N[C@@H](Cc1ccccc1O)C(=O)NCC(=O)N[C@@H](CS)C(=O)N[C@@H]([C@H](O)C)C(=O)N[C@@H](CCC(=O)N)C(=O)N[C@@H](Cc1ccccc1)C(=O)N[C@H](Cc1ccccc1)C(=O)N[C@@H]([C@H](O)C)C(=O)N[C@@H](CC(C)C)C(=O)N1[C@@H](CCC1)C(=O)N[C@@H]([C@H](CC)C)C(=O)N[C@@H]([C@H](O)C)C(=O)N[C@@H](CCC(=O)NC)C(=O)N[C@H](CC(C)C)C(=O)N[C@@H](CCCCN)C(=O)N[C@@H](Cc1ccccc1)C(=O)N[C@@H](CO)C(=O)N[C@@H](CCCCN)C(=O)N[C@@H](CC(=O)O)C(=O)N[C@@H](Cc1ccc(O)cc1)C(=O)N[C@@H](CCC(=O)N)C(=O)N[C@@H](CCC(=O)N)C(=O)N[C@@H](CCC(=O)N)C(=O)N[C@@H](C(C)C)C(=O)N[C@@H](CCCNC(=N)N)C(=O)N[C@H](Cc1ccccc1)C(=O)N[C@@H](CCCNC(=N)N)C(=O)N[C@@H](CCSC)C(=O)N[C@@H](C(C)C)C(=O)N[C@H]([C@H](C)(C(=O)O))C2(=O)',\n",
       " 'NCC(=O)N[C@@H]([C@H](O)C)C(=O)N[C@@H](CC1=CN=C-N1)C(=O)NCC(=O)N[C@@H]([C@H](CC)C)C(=O)N[C@@H](CCC(=O)N)C(=O)N[C@@H](CCC(=O)O)C(=O)N[C@@H](C(C)C)C(=O)N[C@H](Cc1ccc(O)cc1)C(=O)N[C@@H]([C@H](O)C)C(=O)N[C@@H](CC(=CN2)C1=C2C=CC=C1)C(=O)N[C@@H](CCC(=O)N)C(=O)N[C@@H](Cc1ccc(O)cc1)C(=O)N[C@@H](CC(=O)N)C(=O)N[C@@H](CC(=O)O)C(=O)N[C@@H](CCCNC(=N)N)C(=O)N[C@@H](c1ccccc1C(F)(F)F)C(=O)N[C@@H]([C@H](O)C)C(=O)N[C@@H](Cc1ccccc1)C(=O)N[C@@H](C(C)C)C(=O)N[C@H](Cc1ccccc1)C(=O)N[C@@H](Cc1ccccc1)C(=O)N[C@@H](CC1=CN=C-N1)C(=O)N[C@@H](CCCCCCN)C(=O)N[C@@H](CC(=CN2)C1=C2C=CC=C1)C(=O)N[C@@H](CCCCN)C(=O)N[C@@H](CCCCN)C(=O)NCC(=O)N[C@@H](CC(=O)O)C(=O)N[C@@H](CCC(=O)O)C(=O)N[C@@H](CS3)C(=O)N[C@@H](CC1=CN=C-N1)C(=O)N[C@@H](CO)C(=O)N[C@@H](CCC(=O)O)C(=O)N[C@@H](CS)C(=O)N[C@@H](Cc1ccccc1)C(=O)N[C@@H](CCC(=O)O)C(=O)N[C@@H](Cc1cc(I)c(c(c1)I)O)C(=O)N[C@H](C(C)C)C(=O)N[C@@H](C)C(=O)N[C@@H](CCSC)C(=O)N[C@@H](CCC(=O)N)C(=O)N[C@@H](Cc1ccc(cc1)N)C(=O)N[C@@H](C)C(=O)N[C@@H](c1ccc(c(c1)Cl)O)C(=O)N[C@@H](CC1=CN=C-N1)C(=O)N[C@@H](CC(=CN2)C1=C2C=CC=C1)C(=O)N[C@H](CS)C(=O)N[C@@H](C(C)C)C(=O)N[C@@H](CCC(=O)O)C(=O)N[C@@H](C[C@@H](C(F)(F)F)C)C(=O)N[C@@H](CCC(=O)N)C(=O)NCC(=O)N[C@@H](CCSC)C(=O)N1[C@@H](CCC1)C(=O)NCC(=O)N[C@@H]([C@H](O)C)C(=O)N[C@@H](CCSC)C(=O)N[C@H](Cc1cccc(C#N)c1)C(=O)N[C@@H](Cc1cc(Br)c(c(c1)Br)O)C(=O)N[C@@H](CS)C(=O)N[C@@H]([C@H](CC)C)C(=O)N[C@H](CCC(=O)N)C(=O)N[C@H](CC1=CN=C-N1)C(=O)N[C@@H](CC1=CN=C-N1)C(=O)N[C@@H](Cc1ccccc1)C(=O)N[C@@H](CC(C)C)C(=O)N[C@@H](CCSC)C(=O)N[C@@H]([C@H](O)C)C(=O)N[C@@H](CS)C(=O)N[C@@H](CC(=O)O)C(=O)N[C@@H]([C@H](CC)C)C(=O)N[C@@H](CS3)C(=O)N[C@@H](CC(=O)O)C(=O)N[C@@H](Cc1ccccc1)C(=O)O',\n",
       " 'N[C@@H](CC1=CN=C-N1)C(=O)N[C@@H](Cc1ccccc1)C(=O)N[C@@H](CC(C)C)C(=O)N[C@@H](C)C(=O)N[C@@H](CC(=O)O)C(=O)N[C@@H](CS)C(=O)N[C@@H]([C@H](O)C)C(=O)N[C@@H]([C@H](O)C)C(=O)N[C@@H]([C@H](C)CC(=O)O)C(=O)N[C@@H](CC(=O)O)C(=O)N[C@@H](CO)C(=O)N[C@@H](CC(=O)O)C(=O)N[C@@H](CCCCN3)C(=O)N[C@@H](CCCCN)C(=O)N[C@@H](C)C(=O)N[C@@H](CCCNC(=N)N)C(=O)N[C@@H](CO)C(=O)N[C@@H](c1ccccc1Cl)C(=O)N[C@@H](CCCCN)C(=O)N[C@H](CCSC)C(=O)N[C@@H](CC(=O)N)C(=O)N[C@@H](C)C(=O)NCC(=O)N[C@H](C)C(=O)N[C@@H](CCCCN)C(=O)N[C@@H](CCC(=O)O)C(=O)N[C@@H](CCC(=O)O)C(=O)N[C@@H](CCSC)C(=O)N[C@@H](CC1=CN=C-N1)C(=O)N[C@@H](CCC(=O)O)C(=O)N[C@@H](CS)C(=O)N[C@@H](CC(=O)N)C(=O)N[C@@H](C)C(=O)N[C@@H](CC(C)C)C(=O)N[C@@H](CS)C(=O)NC(C(=O)O)C(=O)N[C@@H](CCC(=O)N)C(=O)N[C@@H](C(C)C)C(=O)N[C@@H](CC(=O)O)C(=O)N[C@@H](CC(=O)O)C(=O)N1[C@H](CCC1)C(=O)N[C@@H](CO)C(=O)N[C@H](CC(=O)N)C(=O)N[C@@H](CCSC)C(=O)N[C@@H](CCSC)C(=O)N[C@@H](CO)C(=O)N[C@@H](Cc1ccccc1)C(=O)N[C@@H](CO)C(=O)N[C@@H](CS)C(=O)N[C@@H](CCCNC(=N)N)C(=O)N[C@@H](CCCNC(=N)N)C(=O)N[C@@H](CC(=O)O)C(=O)N[C@@H](CCCCN)C(=O)N[C@H](CCSC)C(=O)N[C@@H](CCON=C(N)N)C(=O)N[C@@H](CC(=CN2)C1=C2C=CC=C1)C(=O)N[C@@H]([C@H](C)CC(=O)O)C(=O)N[C@@H](CC1=CN=C-N1)C(=O)N[C@@H]([C@@H](C)CC(=O)O)C(=O)N[C@@H](C(C)C)C(=O)N[C@@H](CC(=O)N)C(=O)N[C@H](CCCN)C(=O)N[C@@H]([C@H](CC)C)C(=O)N[C@@H](CO)C(=O)N[C@@H](C)C(=O)N[C@H](C)C(=O)N[C@@H](CC(F)F)C(=O)N[C@@H]([C@H](O)C)C(=O)N[C@@H](CS)C(=O)N[C@@H](C(C)C)C(=O)N[C@@H](CCC(=O)N)C(=O)NCC(=O)N[C@H]([C@H](C)(C(=O)O))C3(=O)',\n",
       " 'N[C@H](C)C(=O)NCC(=O)N[C@@H]([C@H](CC)C)C(=O)N[C@@H](CS)C(=O)N[C@@H](CC1=CN=C-N1)C(=O)N[C@@H]([C@H](O)C)C(=O)N1[C@@H](CCC1)C(=O)N[C@@H](CCCC(C3(=O))=O)C(=O)N[C@@H](Cc1c2ccccc2cc2c1cccc2)C(=O)N[C@@H](Cc1ccccc1)C(=O)N[C@@H](CCSC)C(=O)N[C@@H](CC1=CN=C-N1)C(=O)N[C@H](CCCNC(=N)N)C(=O)N[C@H](CO)C(=O)N[C@@H](C(C)C)C(=O)N[C@@H](c1cccc(c1)C(F)(F)F)C(=O)N[C@H](CO)C(=O)N[C@@H](CC[C@H](C)NC(=N)N)C(=O)N[C@H](CCCCN)C(=O)N[C@@H](Cc1ccccc1)C(=O)N[C@@H](CC(=O)O)C(=O)N[C@@H](CCC(=O)O)C(=O)N[C@@H](C)C(=O)N[C@@H](CC(C)C)C(=O)N[C@@H](Cc1ccc(O)cc1)C(=O)N[C@@H](CC(=O)N)C(=O)N[C@@H](Cc1ccc(O)cc1)C(=O)N[C@@H](CC(C)C)C(=O)N[C@@H](CC(=O)O)C(=O)N[C@@H](CC(=O)O)C(=O)N[C@@H](CCSC)C(=O)N[C@@H](CCCCNC(N)N)C(=O)N[C@@H](Cc1ccccc1)C(=O)N[C@@H](CCC(=O)O)C(=O)N[C@@H](CC(=O)N)C(=O)N[C@@H](Cc1ccc(O)cc1)C(=O)N[C@@H](CCCNC(=N)N)C(=O)N[C@@H](CCCNC(=N)N)C(=O)N[C@@H]([C@H](CC)C)C(=O)N[C@@H]([C@H](O)C)C(=O)N[C@@H](C)C(=O)N[C@@H](CC(C)C)C(=O)N[C@@H](CC(=CN2)C1=C2C=CC=C1)C(=O)N[C@@H](CC(=O)N)C(=O)N[C@@H](CC(=O)N)C(=O)N[C@@H](C)C(=O)N[C@@H]([C@H](O)C)C(=O)N[C@@H](CCCCN)C(=O)N[C@@H](CS)C(=O)NCC(=O)N[C@@H](CCCNC(=N)N)C(=O)N[C@@H](CC(C)C)C(=O)N[C@@H](C(C)C)C(=O)N[C@@H](CCCNC(=N)N)C(=O)N[C@@H](CCSC)C(=O)N[C@@H](C(CC)CC)C(=O)N[C@@H](CC1=CN=C-N1)C(=O)N[C@@H]([C@H](O)C)C(=O)N[C@@H](CCC(=O)N3)C(=O)NCC(=O)N[C@H](C)C(=O)N[C@@H](C)C(=O)N[C@@H](C[C@@H](C(F)(F)F)C)C(=O)N[C@@H]([C@H](CC)C)C(=O)O']"
      ]
     },
     "execution_count": 3,
     "metadata": {},
     "output_type": "execute_result"
    }
   ],
   "source": [
    "filename = 'test.txt'\n",
    "smiles = []\n",
    "\n",
    "with open(filename) as file:\n",
    "    for line in file:\n",
    "        smiles.append(line.split(': ')[1].strip())\n",
    "        \n",
    "smiles"
   ]
  },
  {
   "cell_type": "code",
   "execution_count": 4,
   "metadata": {},
   "outputs": [
    {
     "name": "stdout",
     "output_type": "stream",
     "text": [
      "Molecule #1 is valid\n",
      "Molecule #2 is valid\n",
      "Molecule #3 is valid\n",
      "Molecule #4 is valid\n",
      "Molecule #5 is valid\n",
      "Molecule #6 is valid\n",
      "Molecule #7 is valid\n",
      "Molecule #8 is valid\n",
      "Molecule #9 is valid\n",
      "Molecule #10 is valid\n"
     ]
    }
   ],
   "source": [
    "from rdkit import Chem\n",
    "\n",
    "for i, smile in enumerate(smiles):\n",
    "    mol = Chem.MolFromSmiles(smile)\n",
    "    # print(mol)\n",
    "    if mol is None:\n",
    "        print(f'Molecule #{i+1} is invalid')\n",
    "    else:\n",
    "        canon_smile = Chem.MolToSmiles(mol)\n",
    "        print(f'Molecule #{i+1} is valid')"
   ]
  }
 ],
 "metadata": {
  "kernelspec": {
   "display_name": "base",
   "language": "python",
   "name": "python3"
  },
  "language_info": {
   "codemirror_mode": {
    "name": "ipython",
    "version": 3
   },
   "file_extension": ".py",
   "mimetype": "text/x-python",
   "name": "python",
   "nbconvert_exporter": "python",
   "pygments_lexer": "ipython3",
   "version": "3.12.2"
  }
 },
 "nbformat": 4,
 "nbformat_minor": 2
}
